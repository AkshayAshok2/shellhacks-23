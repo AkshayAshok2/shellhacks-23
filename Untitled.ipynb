{
 "cells": [
  {
   "cell_type": "code",
   "execution_count": 4,
   "id": "431c10eb",
   "metadata": {},
   "outputs": [],
   "source": [
    "import requests\n",
    "from base64 import b64encode"
   ]
  },
  {
   "cell_type": "code",
   "execution_count": 14,
   "id": "21942a1f",
   "metadata": {},
   "outputs": [
    {
     "name": "stdout",
     "output_type": "stream",
     "text": [
      "Error: 504 <HTML><HEAD><TITLE>Error</TITLE></HEAD><BODY>\n",
      "An error occurred while processing your request.<p>\n",
      "Reference&#32;&#35;97&#46;31c1ce17&#46;1694867534&#46;31548a9f\n",
      "</BODY></HTML>\n",
      "\n"
     ]
    }
   ],
   "source": [
    "import requests\n",
    "\n",
    "api_key = \"akshayashok\"\n",
    "headers = {\"Authorization\": f\"Bearer {api_key}\"}\n",
    "\n",
    "response = requests.get(\"https://api.msci.com/v1/esg-data-endpoint\", headers=headers)\n",
    "\n",
    "if response.status_code == 200:\n",
    "    esg_data = response.json()\n",
    "    print(\"ESG Data:\", esg_data)\n",
    "else:\n",
    "    print(\"Error:\", response.status_code, response.text)"
   ]
  },
  {
   "cell_type": "code",
   "execution_count": 12,
   "id": "fe99e181",
   "metadata": {},
   "outputs": [
    {
     "ename": "TypeError",
     "evalue": "a bytes-like object is required, not 'tuple'",
     "output_type": "error",
     "traceback": [
      "\u001b[1;31m---------------------------------------------------------------------------\u001b[0m",
      "\u001b[1;31mTypeError\u001b[0m                                 Traceback (most recent call last)",
      "Cell \u001b[1;32mIn[12], line 1\u001b[0m\n\u001b[1;32m----> 1\u001b[0m b64login \u001b[38;5;241m=\u001b[39m b64encode((\u001b[38;5;124m'\u001b[39m\u001b[38;5;124makshayashok\u001b[39m\u001b[38;5;124m'\u001b[39m, \u001b[38;5;124m'\u001b[39m\u001b[38;5;124mapiaccess\u001b[39m\u001b[38;5;124m'\u001b[39m))\u001b[38;5;241m.\u001b[39mencode(\u001b[38;5;124m'\u001b[39m\u001b[38;5;124mutf-8\u001b[39m\u001b[38;5;124m'\u001b[39m)\n\u001b[0;32m      3\u001b[0m requests\u001b[38;5;241m.\u001b[39mget(\u001b[38;5;124m\"\u001b[39m\u001b[38;5;124mhttps://api.msci.com/esg/report/v1.0/reports/esgRatingsReport/IID000000002143620\u001b[39m\u001b[38;5;124m\"\u001b[39m, headers\u001b[38;5;241m=\u001b[39m{\u001b[38;5;124m\"\u001b[39m\u001b[38;5;124mAuthorization\u001b[39m\u001b[38;5;124m\"\u001b[39m: \u001b[38;5;124m\"\u001b[39m\u001b[38;5;124mBasic \u001b[39m\u001b[38;5;132;01m%s\u001b[39;00m\u001b[38;5;124m\"\u001b[39m \u001b[38;5;241m%\u001b[39m b64login })\n",
      "File \u001b[1;32m~\\anaconda3\\envs\\sh23\\Lib\\base64.py:58\u001b[0m, in \u001b[0;36mb64encode\u001b[1;34m(s, altchars)\u001b[0m\n\u001b[0;32m     51\u001b[0m \u001b[38;5;28;01mdef\u001b[39;00m \u001b[38;5;21mb64encode\u001b[39m(s, altchars\u001b[38;5;241m=\u001b[39m\u001b[38;5;28;01mNone\u001b[39;00m):\n\u001b[0;32m     52\u001b[0m \u001b[38;5;250m    \u001b[39m\u001b[38;5;124;03m\"\"\"Encode the bytes-like object s using Base64 and return a bytes object.\u001b[39;00m\n\u001b[0;32m     53\u001b[0m \n\u001b[0;32m     54\u001b[0m \u001b[38;5;124;03m    Optional altchars should be a byte string of length 2 which specifies an\u001b[39;00m\n\u001b[0;32m     55\u001b[0m \u001b[38;5;124;03m    alternative alphabet for the '+' and '/' characters.  This allows an\u001b[39;00m\n\u001b[0;32m     56\u001b[0m \u001b[38;5;124;03m    application to e.g. generate url or filesystem safe Base64 strings.\u001b[39;00m\n\u001b[0;32m     57\u001b[0m \u001b[38;5;124;03m    \"\"\"\u001b[39;00m\n\u001b[1;32m---> 58\u001b[0m     encoded \u001b[38;5;241m=\u001b[39m binascii\u001b[38;5;241m.\u001b[39mb2a_base64(s, newline\u001b[38;5;241m=\u001b[39m\u001b[38;5;28;01mFalse\u001b[39;00m)\n\u001b[0;32m     59\u001b[0m     \u001b[38;5;28;01mif\u001b[39;00m altchars \u001b[38;5;129;01mis\u001b[39;00m \u001b[38;5;129;01mnot\u001b[39;00m \u001b[38;5;28;01mNone\u001b[39;00m:\n\u001b[0;32m     60\u001b[0m         \u001b[38;5;28;01massert\u001b[39;00m \u001b[38;5;28mlen\u001b[39m(altchars) \u001b[38;5;241m==\u001b[39m \u001b[38;5;241m2\u001b[39m, \u001b[38;5;28mrepr\u001b[39m(altchars)\n",
      "\u001b[1;31mTypeError\u001b[0m: a bytes-like object is required, not 'tuple'"
     ]
    }
   ],
   "source": [
    "b64login = b64encode(('akshayashok', 'apiaccess')).encode('utf-8'))\n",
    "\n",
    "requests.get(\"https://api.msci.com/esg/report/v1.0/reports/esgRatingsReport/IID000000002143620\", headers={\"Authorization\": \"Basic %s\" % b64login })"
   ]
  },
  {
   "cell_type": "code",
   "execution_count": null,
   "id": "ebc487ba",
   "metadata": {},
   "outputs": [],
   "source": []
  }
 ],
 "metadata": {
  "kernelspec": {
   "display_name": "Python 3 (ipykernel)",
   "language": "python",
   "name": "python3"
  },
  "language_info": {
   "codemirror_mode": {
    "name": "ipython",
    "version": 3
   },
   "file_extension": ".py",
   "mimetype": "text/x-python",
   "name": "python",
   "nbconvert_exporter": "python",
   "pygments_lexer": "ipython3",
   "version": "3.11.5"
  }
 },
 "nbformat": 4,
 "nbformat_minor": 5
}
